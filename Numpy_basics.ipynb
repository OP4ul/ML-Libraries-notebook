{
 "cells": [
  {
   "cell_type": "markdown",
   "id": "9256a4aa-66fb-4fb2-bb44-2dda79811526",
   "metadata": {},
   "source": [
    "<h1><center> Numpy Basics</h1>"
   ]
  },
  {
   "cell_type": "markdown",
   "id": "5e80f840-2f3e-48d5-95ec-f0e00be4d701",
   "metadata": {},
   "source": [
    "<h2>1. Creating Arrays</h2>"
   ]
  },
  {
   "cell_type": "code",
   "execution_count": 7,
   "id": "b9e9bdee-b684-43fe-b851-299de428e9ab",
   "metadata": {},
   "outputs": [],
   "source": [
    "import numpy as np\n",
    "\n",
    "a = np.array([1,2,3])  #1D array\n",
    "b = np.array([[1,2],[3,4]]) #2D array\n",
    "c = np.array([[1,2,3],[4,5,6],[7,8,9]])
   ]
  },
  {
   "cell_type": "markdown",
   "id": "c0ee6306-da9d-4098-a8ac-f0e20f82d8c5",
   "metadata": {},
   "source": [
    "<h2>2. Array Attributes</h2>"
   ]
  },
  {
   "cell_type": "code",
   "execution_count": 10,
   "id": "9663c704-d76d-43b1-b40d-6c0899511da8",
   "metadata": {},
   "outputs": [
    {
     "name": "stdout",
     "output_type": "stream",
     "text": [
      "(3,)\n",
      "(2, 2)\n",
      "(3, 3)\n",
      "1\n",
      "2\n",
      "int64\n"
     ]
    }
   ],
   "source": [
    "print(a.shape)\n",
    "print(b.shape)\n",
    "print(c.shape)\n",
    "print(a.ndim)\n",
    "print(b.ndim)\n",
    "print(a.dtype)"
   ]
  },
  {
   "cell_type": "markdown",
   "id": "5f413210-0a6e-4057-af45-43e2fbd0ee8a",
   "metadata": {},
   "source": [
    "<h2>3. Common functions</h2>"
   ]
  },
  {
   "cell_type": "code",
   "execution_count": 12,
   "id": "45a9b65a-884f-4256-b713-2c6ce3a4cfb7",
   "metadata": {},
   "outputs": [
    {
     "name": "stdout",
     "output_type": "stream",
     "text": [
      "[[0. 0. 0.]\n",
      " [0. 0. 0.]]\n"
     ]
    }
   ],
   "source": [
    "print(np.zeros((2,3)))"
   ]
  },
  {
   "cell_type": "code",
   "execution_count": 14,
   "id": "8a29e815-9fd0-4247-bd0b-abcbe9491775",
   "metadata": {},
   "outputs": [
    {
     "name": "stdout",
     "output_type": "stream",
     "text": [
      "[[1. 1. 1.]\n",
      " [1. 1. 1.]\n",
      " [1. 1. 1.]]\n"
     ]
    }
   ],
   "source": [
    "print(np.ones((3,3)))"
   ]
  },
  {
   "cell_type": "code",
   "execution_count": 15,
   "id": "d3a14654-1ea5-4361-b60f-028a3c934464",
   "metadata": {},
   "outputs": [
    {
     "name": "stdout",
     "output_type": "stream",
     "text": [
      "[[1. 0. 0.]\n",
      " [0. 1. 0.]\n",
      " [0. 0. 1.]]\n"
     ]
    }
   ],
   "source": [
    "print(np.eye(3))"
   ]
  },
  {
   "cell_type": "code",
   "execution_count": 16,
   "id": "2cdc2d4a-84cc-4736-a57d-3958a10f3630",
   "metadata": {},
   "outputs": [
    {
     "name": "stdout",
     "output_type": "stream",
     "text": [
      "[0 3 6 9]\n"
     ]
    }
   ],
   "source": [
    "range = np.arange(0,10,3)\n",
    "print(range)"
   ]
  },
  {
   "cell_type": "code",
   "execution_count": 21,
   "id": "abc866eb-c9fc-46bb-8942-44b6ff3c22bf",
   "metadata": {},
   "outputs": [
    {
     "name": "stdout",
     "output_type": "stream",
     "text": [
      "[0.   2.25 4.5  6.75 9.  ]\n"
     ]
    }
   ],
   "source": [
    "linear_space = np.linspace(0,9,5) # 5 evenly spaced numbers from 0 to 9, includes the last number in the set.\n",
    "print(linear_space)"
   ]
  },
  {
   "cell_type": "markdown",
   "id": "d568ef4d-05c8-4eea-ab07-f39cf22521b0",
   "metadata": {},
   "source": [
    "<h2>4. Indexing and Slicing</h2>"
   ]
  },
  {
   "cell_type": "code",
   "execution_count": 23,
   "id": "29b980ff-8f58-4c71-a8bb-57970b8094b5",
   "metadata": {},
   "outputs": [
    {
     "name": "stdout",
     "output_type": "stream",
     "text": [
      "2\n"
     ]
    }
   ],
   "source": [
    "print(b[0,1])"
   ]
  },
  {
   "cell_type": "code",
   "execution_count": 25,
   "id": "6faba104-adc9-45c6-8fe9-d00079b8d13d",
   "metadata": {},
   "outputs": [
    {
     "name": "stdout",
     "output_type": "stream",
     "text": [
      "[1 4 7]\n"
     ]
    }
   ],
   "source": [
    "print(c[:,0])"
   ]
  },
  {
   "cell_type": "code",
   "execution_count": 27,
   "id": "e477f728-a930-4ec2-9100-bed20fcea0f6",
   "metadata": {},
   "outputs": [
    {
     "name": "stdout",
     "output_type": "stream",
     "text": [
      "[3 4]\n"
     ]
    }
   ],
   "source": [
    "print(b[1,:])"
   ]
  },
  {
   "cell_type": "markdown",
   "id": "d1bf50b7-bcd3-43f0-80e0-a5180a8b9f50",
   "metadata": {},
   "source": [
    "<h2>5. Arithmetic Operations</h2>"
   ]
  },
  {
   "cell_type": "code",
   "execution_count": 28,
   "id": "19f75ce4-55ef-4ca7-81c8-e70f907cac0d",
   "metadata": {},
   "outputs": [
    {
     "name": "stdout",
     "output_type": "stream",
     "text": [
      "[ 4 10 18]\n"
     ]
    }
   ],
   "source": [
    "x = np.array([1,2,3])\n",
    "y = np.array([4,5,6])\n",
    "\n",
    "print(x*y)"
   ]
  },
  {
   "cell_type": "code",
   "execution_count": 29,
   "id": "cf37defa-5166-4535-9c49-daec5b2667ab",
   "metadata": {},
   "outputs": [
    {
     "name": "stdout",
     "output_type": "stream",
     "text": [
      "[5 7 9]\n"
     ]
    }
   ],
   "source": [
    "print(x+y)"
   ]
  },
  {
   "cell_type": "code",
   "execution_count": 30,
   "id": "182ad5ec-f748-4800-84ae-8be16c4d8bba",
   "metadata": {},
   "outputs": [
    {
     "name": "stdout",
     "output_type": "stream",
     "text": [
      "32\n"
     ]
    }
   ],
   "source": [
    "print(np.dot(x,y))"
   ]
  },
  {
   "cell_type": "markdown",
   "id": "8c3016f6-fcbf-498d-9421-93261f00fec4",
   "metadata": {},
   "source": [
    "<h2>Exercises</h2>"
   ]
  },
  {
   "cell_type": "markdown",
   "id": "e5d342df-4578-4306-8064-fdda311d2651",
   "metadata": {},
   "source": [
    "<h3>1. Create a 3x3 matrix filled with values from 1 to 9.</h3>"
   ]
  },
  {
   "cell_type": "code",
   "execution_count": 31,
   "id": "b317d6c6-e3b5-4bb4-873b-1bb68692c7ec",
   "metadata": {},
   "outputs": [
    {
     "name": "stdout",
     "output_type": "stream",
     "text": [
      "[[1 2 3]\n",
      " [4 5 6]\n",
      " [7 8 9]]\n"
     ]
    }
   ],
   "source": [
    "print(c)"
   ]
  },
  {
   "cell_type": "markdown",
   "id": "2f10a803-9ec3-4572-bba0-9ea996a78890",
   "metadata": {},
   "source": [
    "<h3>2. Extract the second column from the matrix.</h3>"
   ]
  },
  {
   "cell_type": "code",
   "execution_count": 33,
   "id": "c1c010f5-6b28-487f-8d1d-d779c0b31ffa",
   "metadata": {},
   "outputs": [
    {
     "name": "stdout",
     "output_type": "stream",
     "text": [
      "[2 5 8]\n"
     ]
    }
   ],
   "source": [
    "print(c[:,1])"
   ]
  },
  {
   "cell_type": "markdown",
   "id": "b936787f-ee5b-4434-a051-049742fc1f27",
   "metadata": {},
   "source": [
    "<h3>3. Replace the center element (5) with 0.</h3>"
   ]
  },
  {
   "cell_type": "code",
   "execution_count": 34,
   "id": "45b52519-02ef-4c13-82ac-728e84877f18",
   "metadata": {},
   "outputs": [
    {
     "name": "stdout",
     "output_type": "stream",
     "text": [
      "[[1 2 3]\n",
      " [4 0 6]\n",
      " [7 8 9]]\n"
     ]
    }
   ],
   "source": [
    "c[1,1] = 0\n",
    "print(c)"
   ]
  },
  {
   "cell_type": "markdown",
   "id": "a3b0a906-8a24-4150-a920-c01d9212ac79",
   "metadata": {},
   "source": [
    "<h3>4. Create a 2x3 matrix of ones and multiply it by 5.</h3>"
   ]
  },
  {
   "cell_type": "code",
   "execution_count": 36,
   "id": "5c33766e-c032-42b3-87cf-9716acfd4aac",
   "metadata": {},
   "outputs": [
    {
     "name": "stdout",
     "output_type": "stream",
     "text": [
      "[[5. 5. 5.]\n",
      " [5. 5. 5.]]\n"
     ]
    }
   ],
   "source": [
    "d = np.ones((2,3))\n",
    "print(d*5)"
   ]
  },
  {
   "cell_type": "markdown",
   "id": "b68df6a1-6963-4b41-9078-a59e93c9e602",
   "metadata": {},
   "source": [
    "<h3>5. Create a 1D array of 10 evenly spaced values between 0 and 1.</h3>"
   ]
  },
  {
   "cell_type": "code",
   "execution_count": 37,
   "id": "91f5a943-6bbf-41a5-8f15-d09880dd65bc",
   "metadata": {},
   "outputs": [
    {
     "name": "stdout",
     "output_type": "stream",
     "text": [
      "[0.         0.11111111 0.22222222 0.33333333 0.44444444 0.55555556\n",
      " 0.66666667 0.77777778 0.88888889 1.        ]\n"
     ]
    }
   ],
   "source": [
    "spacing = np.linspace(0,1,10)\n",
    "print(spacing)"
   ]
  },
  {
   "cell_type": "markdown",
   "id": "19ab263e-7449-4a7e-bd91-6d267a91bdd2",
   "metadata": {},
   "source": [
    "<h3>6. Create two 1D arrays: [2,4,6] and [1,3,5]. </h3>"
   ]
  },
  {
   "cell_type": "markdown",
   "id": "773beb0f-27dc-48b8-8c12-022be1430c98",
   "metadata": {},
   "source": [
    "<h3>Compute: <br>\n",
    "    <br>\n",
    "    A. Element-wise sum</h3>"
   ]
  },
  {
   "cell_type": "code",
   "execution_count": 39,
   "id": "e4c78df7-ef2f-4273-b1d2-0c4ea42335dd",
   "metadata": {},
   "outputs": [
    {
     "name": "stdout",
     "output_type": "stream",
     "text": [
      "[ 3  7 11]\n"
     ]
    }
   ],
   "source": [
    "A = np.array([2,4,6])\n",
    "B = np.array([1,3,5])\n",
    "\n",
    "print(A+B)"
   ]
  },
  {
   "cell_type": "markdown",
   "id": "902e9398-8a45-4bab-ba54-943e29276a03",
   "metadata": {},
   "source": [
    "<h3>B. Element-wise product.</h3>"
   ]
  },
  {
   "cell_type": "code",
   "execution_count": 40,
   "id": "7ff6872f-ec6a-48bb-b6c2-4bcd226d428c",
   "metadata": {},
   "outputs": [
    {
     "name": "stdout",
     "output_type": "stream",
     "text": [
      "[ 2 12 30]\n"
     ]
    }
   ],
   "source": [
    "print(A*B)"
   ]
  },
  {
   "cell_type": "markdown",
   "id": "6e0afbfc-ddce-436b-8fd6-a1ab3438779a",
   "metadata": {},
   "source": [
    "<h3>C. Dot product</h3>"
   ]
  },
  {
   "cell_type": "code",
   "execution_count": 41,
   "id": "0f9d4d72-55f7-4fc2-b8b8-da99f7ca7687",
   "metadata": {},
   "outputs": [
    {
     "name": "stdout",
     "output_type": "stream",
     "text": [
      "44\n"
     ]
    }
   ],
   "source": [
    "print(np.dot(A,B))"
   ]
  },
  {
   "cell_type": "code",
   "execution_count": null,
   "id": "89068efe-3295-4799-8851-0a4678534381",
   "metadata": {},
   "outputs": [],
   "source": []
  }
 ],
 "metadata": {
  "kernelspec": {
   "display_name": "Python 3 (ipykernel)",
   "language": "python",
   "name": "python3"
  },
  "language_info": {
   "codemirror_mode": {
    "name": "ipython",
    "version": 3
   },
   "file_extension": ".py",
   "mimetype": "text/x-python",
   "name": "python",
   "nbconvert_exporter": "python",
   "pygments_lexer": "ipython3",
   "version": "3.12.2"
  }
 },
 "nbformat": 4,
 "nbformat_minor": 5
}
